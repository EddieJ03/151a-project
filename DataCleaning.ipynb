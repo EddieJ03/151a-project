{
 "cells": [
  {
   "cell_type": "code",
   "execution_count": 1,
   "metadata": {
    "id": "o_k1mhYwm4GD"
   },
   "outputs": [],
   "source": [
    "import json\n",
    "import csv\n",
    "import pandas as pd"
   ]
  },
  {
   "cell_type": "code",
   "execution_count": 2,
   "metadata": {
    "colab": {
     "base_uri": "https://localhost:8080/"
    },
    "id": "CrmC_39umBMc",
    "outputId": "52df03b8-f575-43d8-e93e-580d951f4cdb"
   },
   "outputs": [
    {
     "data": {
      "text/plain": [
       "[{'rating': 5.0,\n",
       "  'title': 'Nice',\n",
       "  'text': 'If i had a dollar for how many times I have played this cd and how many times I have asked Alexa to play it, I would be rich. Love this singer along with the Black Pumas. Finding a lot of new music that I like a lot on amazon. Try new things.',\n",
       "  'images': [],\n",
       "  'asin': 'B004RQ2IRG',\n",
       "  'parent_asin': 'B004RQ2IRG',\n",
       "  'user_id': 'AFUOYIZBU3MTBOLYKOJE5Z35MBDA',\n",
       "  'timestamp': 1618972613292,\n",
       "  'helpful_vote': 0,\n",
       "  'verified_purchase': True},\n",
       " {'rating': 5.0,\n",
       "  'title': 'Excellent',\n",
       "  'text': 'awesome sound - cant wait to see them in person - always miss them when they are in town !',\n",
       "  'images': [],\n",
       "  'asin': 'B0026UZEI0',\n",
       "  'parent_asin': 'B0026UZEI0',\n",
       "  'user_id': 'AHGAOIZVODNHYMNCBV4DECZH42UQ',\n",
       "  'timestamp': 1308167525000,\n",
       "  'helpful_vote': 0,\n",
       "  'verified_purchase': True},\n",
       " {'rating': 5.0,\n",
       "  'title': 'Great service',\n",
       "  'text': 'This is a great cd. Good music and plays well. Seller responded back very quicky and  received it within 3 days',\n",
       "  'images': [],\n",
       "  'asin': 'B0055JSYHC',\n",
       "  'parent_asin': 'B0055JSYHC',\n",
       "  'user_id': 'AFGEM6BXCYHUILEOA3P2ZYBEF2TA',\n",
       "  'timestamp': 1615838793006,\n",
       "  'helpful_vote': 0,\n",
       "  'verified_purchase': True},\n",
       " {'rating': 1.0,\n",
       "  'title': 'No good',\n",
       "  'text': 'These are not real German singers, they have accents. It is nothing what they advertised it. Music stinks.',\n",
       "  'images': [],\n",
       "  'asin': 'B000F9SMUQ',\n",
       "  'parent_asin': 'B000F9SMUQ',\n",
       "  'user_id': 'AH3OG6QD6EDJGZRVCFKV4B66VWNQ',\n",
       "  'timestamp': 1405219741000,\n",
       "  'helpful_vote': 0,\n",
       "  'verified_purchase': True},\n",
       " {'rating': 3.0,\n",
       "  'title': 'Cool concept, so-so execution...',\n",
       "  'text': 'I first heard this playing in a Nagoya shop and fell in love with the remix of Ke$ha\\'s \"Tik Tok\" (Ke$ha and Lady Gaga are EVERYWHERE in Japan), which then morphed into several other recent pop hits. When the salesgirl handed me the CD, I was pleased to see that it actually included thirty pop songs by the likes of Lady Gaga, Usher, La Roux, Katy Perry, Black-Eyed Peas, Ke$ha, etc. I researched more after I got home, and discovered that this Japanese label (Manhattan Records) exists solely to put out rerecorded and remixed dance CDs based on recent pop hits, the key word being rerecorded. I guessed as much as I was listening to the CD in-store; several of the soundalikes do a great job, others are just so-so. It\\'s great for workouts, though, since the tracks fade one into another with no downtime (the bad side is that if you\\'ve got in in shuffle, the beginning of the next song, which is often in a different key, is kind of an awkward fade-out when not played in sequence).',\n",
       "  'images': [],\n",
       "  'asin': 'B0049D1WVK',\n",
       "  'parent_asin': 'B0049D1WVK',\n",
       "  'user_id': 'AFW2PDT3AMT4X3PYQG7FJZH5FXFA',\n",
       "  'timestamp': 1309029595000,\n",
       "  'helpful_vote': 0,\n",
       "  'verified_purchase': False}]"
      ]
     },
     "execution_count": 2,
     "metadata": {},
     "output_type": "execute_result"
    }
   ],
   "source": [
    "# load in data from a jsonl file\n",
    "file_path = 'Digital_Music.jsonl'\n",
    "with open(file_path, 'r') as file:\n",
    "    data = [json.loads(line) for line in file]\n",
    "\n",
    "data[:5]"
   ]
  },
  {
   "cell_type": "code",
   "execution_count": 3,
   "metadata": {
    "colab": {
     "base_uri": "https://localhost:8080/"
    },
    "id": "GSUFygZFmIKn",
    "outputId": "4641ccf4-5116-4be0-d5c9-ec8b4dfaae27"
   },
   "outputs": [
    {
     "name": "stdout",
     "output_type": "stream",
     "text": [
      "Data has been successfully converted to CSV.\n"
     ]
    }
   ],
   "source": [
    "# convert file to csv\n",
    "csv_file_path = 'Digital_Music.csv'\n",
    "\n",
    "fieldnames = data[0].keys()\n",
    "with open(csv_file_path, 'w', newline='') as csvfile:\n",
    "    writer = csv.DictWriter(csvfile, fieldnames=fieldnames)\n",
    "    writer.writeheader()\n",
    "    writer.writerows(data)\n",
    "\n",
    "print(\"Data has been successfully converted to CSV.\")"
   ]
  },
  {
   "cell_type": "code",
   "execution_count": 4,
   "metadata": {
    "colab": {
     "base_uri": "https://localhost:8080/",
     "height": 730
    },
    "id": "GjkhKr1gm0Y5",
    "outputId": "f1a6dbf2-9417-4675-ef89-05e710571eb3"
   },
   "outputs": [
    {
     "data": {
      "text/html": [
       "<div>\n",
       "<style scoped>\n",
       "    .dataframe tbody tr th:only-of-type {\n",
       "        vertical-align: middle;\n",
       "    }\n",
       "\n",
       "    .dataframe tbody tr th {\n",
       "        vertical-align: top;\n",
       "    }\n",
       "\n",
       "    .dataframe thead th {\n",
       "        text-align: right;\n",
       "    }\n",
       "</style>\n",
       "<table border=\"1\" class=\"dataframe\">\n",
       "  <thead>\n",
       "    <tr style=\"text-align: right;\">\n",
       "      <th></th>\n",
       "      <th>rating</th>\n",
       "      <th>title</th>\n",
       "      <th>text</th>\n",
       "      <th>images</th>\n",
       "      <th>asin</th>\n",
       "      <th>parent_asin</th>\n",
       "      <th>user_id</th>\n",
       "      <th>timestamp</th>\n",
       "      <th>helpful_vote</th>\n",
       "      <th>verified_purchase</th>\n",
       "    </tr>\n",
       "  </thead>\n",
       "  <tbody>\n",
       "    <tr>\n",
       "      <th>0</th>\n",
       "      <td>5.0</td>\n",
       "      <td>Nice</td>\n",
       "      <td>If i had a dollar for how many times I have pl...</td>\n",
       "      <td>[]</td>\n",
       "      <td>B004RQ2IRG</td>\n",
       "      <td>B004RQ2IRG</td>\n",
       "      <td>AFUOYIZBU3MTBOLYKOJE5Z35MBDA</td>\n",
       "      <td>1618972613292</td>\n",
       "      <td>0</td>\n",
       "      <td>True</td>\n",
       "    </tr>\n",
       "    <tr>\n",
       "      <th>1</th>\n",
       "      <td>5.0</td>\n",
       "      <td>Excellent</td>\n",
       "      <td>awesome sound - cant wait to see them in perso...</td>\n",
       "      <td>[]</td>\n",
       "      <td>B0026UZEI0</td>\n",
       "      <td>B0026UZEI0</td>\n",
       "      <td>AHGAOIZVODNHYMNCBV4DECZH42UQ</td>\n",
       "      <td>1308167525000</td>\n",
       "      <td>0</td>\n",
       "      <td>True</td>\n",
       "    </tr>\n",
       "    <tr>\n",
       "      <th>2</th>\n",
       "      <td>5.0</td>\n",
       "      <td>Great service</td>\n",
       "      <td>This is a great cd. Good music and plays well....</td>\n",
       "      <td>[]</td>\n",
       "      <td>B0055JSYHC</td>\n",
       "      <td>B0055JSYHC</td>\n",
       "      <td>AFGEM6BXCYHUILEOA3P2ZYBEF2TA</td>\n",
       "      <td>1615838793006</td>\n",
       "      <td>0</td>\n",
       "      <td>True</td>\n",
       "    </tr>\n",
       "    <tr>\n",
       "      <th>3</th>\n",
       "      <td>1.0</td>\n",
       "      <td>No good</td>\n",
       "      <td>These are not real German singers, they have a...</td>\n",
       "      <td>[]</td>\n",
       "      <td>B000F9SMUQ</td>\n",
       "      <td>B000F9SMUQ</td>\n",
       "      <td>AH3OG6QD6EDJGZRVCFKV4B66VWNQ</td>\n",
       "      <td>1405219741000</td>\n",
       "      <td>0</td>\n",
       "      <td>True</td>\n",
       "    </tr>\n",
       "    <tr>\n",
       "      <th>4</th>\n",
       "      <td>3.0</td>\n",
       "      <td>Cool concept, so-so execution...</td>\n",
       "      <td>I first heard this playing in a Nagoya shop an...</td>\n",
       "      <td>[]</td>\n",
       "      <td>B0049D1WVK</td>\n",
       "      <td>B0049D1WVK</td>\n",
       "      <td>AFW2PDT3AMT4X3PYQG7FJZH5FXFA</td>\n",
       "      <td>1309029595000</td>\n",
       "      <td>0</td>\n",
       "      <td>False</td>\n",
       "    </tr>\n",
       "  </tbody>\n",
       "</table>\n",
       "</div>"
      ],
      "text/plain": [
       "   rating                             title  \\\n",
       "0     5.0                              Nice   \n",
       "1     5.0                         Excellent   \n",
       "2     5.0                     Great service   \n",
       "3     1.0                           No good   \n",
       "4     3.0  Cool concept, so-so execution...   \n",
       "\n",
       "                                                text images        asin  \\\n",
       "0  If i had a dollar for how many times I have pl...     []  B004RQ2IRG   \n",
       "1  awesome sound - cant wait to see them in perso...     []  B0026UZEI0   \n",
       "2  This is a great cd. Good music and plays well....     []  B0055JSYHC   \n",
       "3  These are not real German singers, they have a...     []  B000F9SMUQ   \n",
       "4  I first heard this playing in a Nagoya shop an...     []  B0049D1WVK   \n",
       "\n",
       "  parent_asin                       user_id      timestamp  helpful_vote  \\\n",
       "0  B004RQ2IRG  AFUOYIZBU3MTBOLYKOJE5Z35MBDA  1618972613292             0   \n",
       "1  B0026UZEI0  AHGAOIZVODNHYMNCBV4DECZH42UQ  1308167525000             0   \n",
       "2  B0055JSYHC  AFGEM6BXCYHUILEOA3P2ZYBEF2TA  1615838793006             0   \n",
       "3  B000F9SMUQ  AH3OG6QD6EDJGZRVCFKV4B66VWNQ  1405219741000             0   \n",
       "4  B0049D1WVK  AFW2PDT3AMT4X3PYQG7FJZH5FXFA  1309029595000             0   \n",
       "\n",
       "   verified_purchase  \n",
       "0               True  \n",
       "1               True  \n",
       "2               True  \n",
       "3               True  \n",
       "4              False  "
      ]
     },
     "execution_count": 4,
     "metadata": {},
     "output_type": "execute_result"
    }
   ],
   "source": [
    "# load the csv file\n",
    "df = pd.read_csv(\"Digital_Music.csv\")\n",
    "df.head()"
   ]
  },
  {
   "cell_type": "code",
   "execution_count": 14,
   "metadata": {
    "id": "-MeQ-SPWnwQN"
   },
   "outputs": [],
   "source": []
  }
 ],
 "metadata": {
  "colab": {
   "provenance": []
  },
  "kernelspec": {
   "display_name": "base",
   "language": "python",
   "name": "python3"
  },
  "language_info": {
   "codemirror_mode": {
    "name": "ipython",
    "version": 3
   },
   "file_extension": ".py",
   "mimetype": "text/x-python",
   "name": "python",
   "nbconvert_exporter": "python",
   "pygments_lexer": "ipython3",
   "version": "3.10.12"
  }
 },
 "nbformat": 4,
 "nbformat_minor": 0
}
